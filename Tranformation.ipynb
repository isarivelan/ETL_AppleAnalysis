{
 "cells": [
  {
   "cell_type": "code",
   "execution_count": 0,
   "metadata": {
    "application/vnd.databricks.v1+cell": {
     "cellMetadata": {
      "byteLimit": 2048000,
      "rowLimit": 10000
     },
     "inputWidgets": {},
     "nuid": "c7d57c83-e003-4629-b6bf-cdc9ffeed55e",
     "showTitle": false,
     "title": ""
    }
   },
   "outputs": [],
   "source": [
    "\n",
    "from pyspark.sql.window import Window\n",
    "from pyspark.sql.functions import lead, col, broadcast\n",
    "\n",
    "class Transformer:\n",
    "    def __init__(self):\n",
    "        pass\n",
    "    def transform(self, inputDFs):\n",
    "        pass\n",
    "\n",
    "class FirstTransformer(Transformer):\n",
    "    def transform(self, inputDFs):\n",
    "        \"\"\"\n",
    "        # Customers who have bought Airpods after buying the Iphone\n",
    "        \n",
    "        \"\"\"\n",
    "        transactionInputDF = inputDFs.get(\"transactionInputDF\")\n",
    "\n",
    "        print(\"transactionInputDF is tranform\")\n",
    "\n",
    "        transactionInputDF.show()\n",
    "\n",
    "        windowSpec = Window.partitionBy(\"customer_id\").orderBy(\"transaction_date\")\n",
    "        \n",
    "        transformedDF = transactionInputDF.withColumn(\n",
    "            \"next_product\", lead(\"product_name\").over(windowSpec)\n",
    "            )\n",
    "        print(\"Airpods after buying Iphone\")\n",
    "        transformedDF.orderBy(\"customer_id\",\"transaction_date\", \"product_name\").show()\n",
    "\n",
    "        filteredDF = transformedDF.filter(\n",
    "            (col(\"product_name\") == \"iPhone\") & (col(\"next_product\") == \"AirPods\")\n",
    "        )\n",
    "\n",
    "        filteredDF.orderBy(\"customer_id\",\"transaction_date\", \"product_name\").show()\n",
    "\n",
    "        customerInputDF = inputDFs.get(\"customerInputDF\")\n",
    "\n",
    "        customerInputDF.show()\n",
    "\n",
    "        joinDF = customerInputDF.join(\n",
    "            broadcast(filteredDF), \"customer_id\"\n",
    "        )\n",
    "        print(\"Joined table\")\n",
    "\n",
    "        joinDF.show()\n",
    "\n",
    "\n",
    "\n",
    "        return joinDF.select(\"customer_id\",\"customer_name\",\"location\").show()\n",
    "\n",
    "        "
   ]
  }
 ],
 "metadata": {
  "application/vnd.databricks.v1+notebook": {
   "dashboards": [],
   "environmentMetadata": null,
   "language": "python",
   "notebookMetadata": {
    "pythonIndentUnit": 4
   },
   "notebookName": "Tranformation",
   "widgets": {}
  }
 },
 "nbformat": 4,
 "nbformat_minor": 0
}

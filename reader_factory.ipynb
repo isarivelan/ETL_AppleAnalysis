{
 "cells": [
  {
   "cell_type": "code",
   "execution_count": 0,
   "metadata": {
    "application/vnd.databricks.v1+cell": {
     "cellMetadata": {},
     "inputWidgets": {},
     "nuid": "efef0374-cc3d-4b55-8aa4-5c4b3f530e8f",
     "showTitle": false,
     "title": ""
    }
   },
   "outputs": [],
   "source": []
  },
  {
   "cell_type": "code",
   "execution_count": 0,
   "metadata": {
    "application/vnd.databricks.v1+cell": {
     "cellMetadata": {
      "byteLimit": 2048000,
      "rowLimit": 10000
     },
     "inputWidgets": {},
     "nuid": "91ae35f6-939d-4f9c-af69-ef0509a0d308",
     "showTitle": false,
     "title": ""
    }
   },
   "outputs": [],
   "source": [
    "class DataSource:\n",
    "    \"\"\"\n",
    "    Abstract class\n",
    "    \"\"\"\n",
    "    def __init__(self, path):\n",
    "        self.path = path\n",
    "    def get_data_frame(self):\n",
    "        \"\"\"\n",
    "        Abstract method, function will be defined in sub class\n",
    "        \"\"\"\n",
    "        raise ValueError (\"Not Implemented\")\n",
    "\n",
    "class CsvDataSource(DataSource):\n",
    "\n",
    "        def get_data_frame(self):\n",
    "            return(\n",
    "                spark.read.format(\"csv\")\n",
    "                .option(\"header\", True)\n",
    "                .load(self.path)\n",
    "            )\n",
    "class ParquetDataSource(DataSource):\n",
    "\n",
    "        def get_data_frame(self):\n",
    "            return(\n",
    "                spark\n",
    "                .read\n",
    "                .format(\"csv\")\n",
    "                .load(self.path)\n",
    "            )\n",
    "class DeltaDataSource(DataSource):\n",
    "\n",
    "        def get_data_frame(self):\n",
    "\n",
    "            table_name = self.path\n",
    "\n",
    "            return(\n",
    "                spark\n",
    "                .read\n",
    "                .table(table_name)\n",
    "            )\n",
    "\n",
    "def get_data_source(data_type, file_path):\n",
    "    if data_type==\"csv\":\n",
    "        return CsvDataSource(file_path)\n",
    "    elif data_type==\"parquet\":\n",
    "        return ParquetDataSource(file_path)\n",
    "    elif data_type ==\"delta\":\n",
    "        return DeltaDataSource(file_path)\n",
    "    else:\n",
    "        raise ValueError(f\"Not implemented for data_type:{data_type}\")\n",
    "\n"
   ]
  }
 ],
 "metadata": {
  "application/vnd.databricks.v1+notebook": {
   "dashboards": [],
   "environmentMetadata": null,
   "language": "python",
   "notebookMetadata": {
    "pythonIndentUnit": 4
   },
   "notebookName": "reader_factory",
   "widgets": {}
  }
 },
 "nbformat": 4,
 "nbformat_minor": 0
}
